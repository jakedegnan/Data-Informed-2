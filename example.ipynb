{
 "cells": [
  {
   "cell_type": "code",
   "execution_count": 3,
   "metadata": {},
   "outputs": [
    {
     "name": "stdout",
     "output_type": "stream",
     "text": [
      "hello world\n"
     ]
    }
   ],
   "source": [
    "print(\"hello world\")"
   ]
  },
  {
   "cell_type": "code",
   "execution_count": 4,
   "metadata": {},
   "outputs": [
    {
     "name": "stdout",
     "output_type": "stream",
     "text": [
      "hello world\n"
     ]
    }
   ],
   "source": [
    "print(\"hello world\")"
   ]
  },
  {
   "cell_type": "code",
   "execution_count": 5,
   "metadata": {},
   "outputs": [
    {
     "data": {
      "text/plain": [
       "13"
      ]
     },
     "execution_count": 5,
     "metadata": {},
     "output_type": "execute_result"
    }
   ],
   "source": [
    "x = 10\n",
    "x+3"
   ]
  },
  {
   "cell_type": "code",
   "execution_count": 6,
   "metadata": {},
   "outputs": [
    {
     "name": "stdout",
     "output_type": "stream",
     "text": [
      "Hello, World\n",
      "It is good to meet you,  Jake \n",
      "Your name is  5 charecters long\n",
      "next year you will be :  22\n"
     ]
    }
   ],
   "source": [
    "print(\"Hello, World\")\n",
    "user = input(\"Your name: \")\n",
    "print(\"It is good to meet you, \" , user)\n",
    "print( \"Your name is \", len(user), \"charecters long\")\n",
    "age = input(\"How old are you? : \")\n",
    "print(\"next year you will be : \" , int(age)+1)\n"
   ]
  },
  {
   "cell_type": "code",
   "execution_count": 10,
   "metadata": {},
   "outputs": [
    {
     "name": "stdout",
     "output_type": "stream",
     "text": [
      "I am thinking of a number 1 through 20\n",
      "take a guess:  6\n",
      "your guess is too low\n",
      "take a guess:  1\n",
      "your guess is too low\n",
      "take a guess:  6\n",
      "your guess is too high\n",
      "take a guess:  8\n",
      "your guess is too high\n",
      "take a guess:  9\n",
      "your guess is too low\n",
      "take a guess:  5\n",
      "Correct! Nice Job, you guessed the right number:  7\n"
     ]
    }
   ],
   "source": [
    "import random\n",
    "secretNumber = random.randint(1,20)\n",
    "print(\"I am thinking of a number 1 through 20\")\n",
    "\n",
    "for guessTaken in range(1,7):\n",
    "    print('take a guess: ', int(guess))\n",
    "    guess = int(input('your guess: '))\n",
    "\n",
    "    if guess < secretNumber:\n",
    "        print('your guess is too low')\n",
    "    elif guess > secretNumber : \n",
    "        print('your guess is too high')\n",
    "    else: \n",
    "        break\n",
    "\n",
    "if guess == secretNumber: \n",
    "    print(\"Correct! Nice Job, you guessed the right number: \", int(secretNumber))\n",
    "else: \n",
    "    print(\"Nope! You ran out of guesses, the number I was thinking of was: \", int(secretNumber))\n"
   ]
  }
 ],
 "metadata": {
  "kernelspec": {
   "display_name": ".venv",
   "language": "python",
   "name": "python3"
  },
  "language_info": {
   "codemirror_mode": {
    "name": "ipython",
    "version": 3
   },
   "file_extension": ".py",
   "mimetype": "text/x-python",
   "name": "python",
   "nbconvert_exporter": "python",
   "pygments_lexer": "ipython3",
   "version": "3.11.1"
  }
 },
 "nbformat": 4,
 "nbformat_minor": 2
}
